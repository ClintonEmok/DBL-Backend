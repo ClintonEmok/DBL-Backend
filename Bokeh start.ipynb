{
 "cells": [
  {
   "cell_type": "code",
   "execution_count": 44,
   "metadata": {},
   "outputs": [],
   "source": [
    "import bokeh\n",
    "import numpy as np\n",
    "\n",
    "from bokeh.plotting import figure, output_file, show\n",
    "from bokeh.models import ColumnDataSource, Grid, ImageURL\n",
    "\n",
    "from sklearn import cluster, datasets\n",
    "from sklearn.preprocessing import StandardScaler\n",
    "\n",
    "import pandas as pd"
   ]
  },
  {
   "cell_type": "code",
   "execution_count": 26,
   "metadata": {},
   "outputs": [],
   "source": [
    "# Read in csv\n",
    "Eyetracking_data = pd.read_csv(\"metro_data.csv\", encoding = 'latin1', sep = \";\")\n",
    "Eyetracking_data.head()\n",
    "Eyetracking_data_Antwerpen = Eyetracking_data[Eyetracking_data[\"StimuliName\"] == \"01_Antwerpen_S1.jpg\"]"
   ]
  },
  {
   "cell_type": "code",
   "execution_count": 42,
   "metadata": {},
   "outputs": [
    {
     "ename": "NameError",
     "evalue": "name 'geopandas' is not defined",
     "output_type": "error",
     "traceback": [
      "\u001b[1;31m---------------------------------------------------------------------------\u001b[0m",
      "\u001b[1;31mNameError\u001b[0m                                 Traceback (most recent call last)",
      "\u001b[1;32m<ipython-input-42-bf56e427a4ac>\u001b[0m in \u001b[0;36m<module>\u001b[1;34m\u001b[0m\n\u001b[0;32m      2\u001b[0m \u001b[0moutput_file\u001b[0m\u001b[1;33m(\u001b[0m\u001b[1;34m\"Bokeh_Fixation_Map.html\"\u001b[0m\u001b[1;33m)\u001b[0m\u001b[1;33m\u001b[0m\u001b[1;33m\u001b[0m\u001b[0m\n\u001b[0;32m      3\u001b[0m \u001b[1;33m\u001b[0m\u001b[0m\n\u001b[1;32m----> 4\u001b[1;33m \u001b[0mEyetracking_data_Antwerpen_Location\u001b[0m \u001b[1;33m=\u001b[0m \u001b[0mgeopandas\u001b[0m\u001b[1;33m.\u001b[0m\u001b[0mGeoDataFrame\u001b[0m\u001b[1;33m(\u001b[0m\u001b[0mEyetracking_data_Antwerpen\u001b[0m\u001b[1;33m,\u001b[0m \u001b[0mLocation\u001b[0m\u001b[1;33m=\u001b[0m \u001b[0mgeopandas\u001b[0m\u001b[1;33m.\u001b[0m\u001b[0mpoints_from_xy\u001b[0m\u001b[1;33m(\u001b[0m\u001b[0mEyetracking_data_Antwerpen\u001b[0m\u001b[1;33m.\u001b[0m\u001b[0mMappedFixationPointX\u001b[0m\u001b[1;33m,\u001b[0m \u001b[0mEyetracking_data_Antwerpen\u001b[0m\u001b[1;33m.\u001b[0m\u001b[0mMappedFixationPointY\u001b[0m\u001b[1;33m)\u001b[0m\u001b[1;33m)\u001b[0m\u001b[1;33m\u001b[0m\u001b[1;33m\u001b[0m\u001b[0m\n\u001b[0m\u001b[0;32m      5\u001b[0m \u001b[1;33m\u001b[0m\u001b[0m\n\u001b[0;32m      6\u001b[0m \u001b[0mx\u001b[0m \u001b[1;33m=\u001b[0m \u001b[0mEyetracking_data_Antwerpen\u001b[0m\u001b[1;33m.\u001b[0m\u001b[0mMappedFixationPointX\u001b[0m\u001b[1;33m\u001b[0m\u001b[1;33m\u001b[0m\u001b[0m\n",
      "\u001b[1;31mNameError\u001b[0m: name 'geopandas' is not defined"
     ]
    }
   ],
   "source": [
    "# here the plot :\n",
    "output_file(\"Bokeh_Fixation_Map.html\")\n",
    "\n",
    "Eyetracking_data_Antwerpen.MappedFixationPointX, Eyetracking_data_Antwerpen[\"MappedFixationPointY\"]\n",
    "\n",
    "x = Eyetracking_data_Antwerpen.MappedFixationPointX\n",
    "y = Eyetracking_data_Antwerpen.MappedFixationPointY\n",
    "radii = 15\n",
    "\n",
    "N = Eyetracking_data_Antwerpen[\"FixationIndex\"].count()\n",
    "\n",
    "LocationList = []\n",
    "Location = [0, 0]\n",
    "Index = 0\n",
    "\n",
    "    \n",
    "    \n",
    "colors = [\n",
    "    \"#%02x%02x%02x\" % (int(r), int(g), 150) for r, g in zip(50+2*x, 30+2*y)\n",
    "]\n",
    "\n",
    "\n",
    "TOOLS=\"hover,crosshair,pan,wheel_zoom,zoom_in,zoom_out,box_zoom,undo,redo,reset,tap,save,box_select,poly_select,lasso_select,\"\n",
    "\n",
    "p = figure(plot_width = 825, plot_height = 600, tools=TOOLS)\n",
    "\n",
    "# image = ImageURL(url = \"url\", x = 0, y = 0, anchor = \"bottom_right\")\n",
    "# p.add_glyph(source, image)\n",
    "\n",
    "\n",
    "p.scatter(x, y*-1, radius=radii,\n",
    "          fill_color=colors, fill_alpha=0.6,\n",
    "          line_color=None)\n",
    "\n",
    "\n",
    "\n",
    "#show(p)"
   ]
  },
  {
   "cell_type": "code",
   "execution_count": null,
   "metadata": {},
   "outputs": [],
   "source": []
  },
  {
   "cell_type": "code",
   "execution_count": null,
   "metadata": {},
   "outputs": [],
   "source": []
  },
  {
   "cell_type": "code",
   "execution_count": null,
   "metadata": {
    "collapsed": true
   },
   "outputs": [],
   "source": []
  }
 ],
 "metadata": {
  "kernelspec": {
   "display_name": "Python 3",
   "language": "python",
   "name": "python3"
  },
  "language_info": {
   "codemirror_mode": {
    "name": "ipython",
    "version": 3
   },
   "file_extension": ".py",
   "mimetype": "text/x-python",
   "name": "python",
   "nbconvert_exporter": "python",
   "pygments_lexer": "ipython3",
   "version": "3.7.6"
  }
 },
 "nbformat": 4,
 "nbformat_minor": 2
}

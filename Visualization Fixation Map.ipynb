{
 "cells": [
  {
   "cell_type": "code",
   "execution_count": 14,
   "metadata": {},
   "outputs": [],
   "source": [
    "import bokeh\n",
    "import numpy as np\n",
    "\n",
    "from bokeh.plotting import figure, output_file, show\n",
    "from bokeh.models import ColumnDataSource, Grid, ImageURL\n",
    "\n",
    "import pandas as pd"
   ]
  },
  {
   "cell_type": "code",
   "execution_count": 3,
   "metadata": {},
   "outputs": [],
   "source": [
    "# Read in csv\n",
    "Eyetracking_data = pd.read_csv(\"metro_data.csv\", encoding = 'latin1', sep = \";\")\n",
    "Eyetracking_data.head()\n",
    "Eyetracking_data_Antwerpen = Eyetracking_data[Eyetracking_data[\"StimuliName\"] == \"01_Antwerpen_S1.jpg\"]"
   ]
  },
  {
   "cell_type": "code",
   "execution_count": 4,
   "metadata": {},
   "outputs": [],
   "source": [
    "# here the plot :\n",
    "output_file(\"Bokeh_Fixation_Map.html\")\n",
    "\n",
    "x = Eyetracking_data_Antwerpen.MappedFixationPointX\n",
    "y = Eyetracking_data_Antwerpen.MappedFixationPointY\n",
    "radii = 15\n",
    "\n",
    "TOOLS=\"hover,crosshair,pan,wheel_zoom,zoom_in,zoom_out,box_zoom,undo,redo,reset,tap,save,box_select,poly_select,lasso_select,\"\n",
    "\n",
    "p = figure(plot_width = 1000, plot_height = 750, tools=TOOLS, x_range=(0, 1650), y_range=(-1200, 0))\n",
    "\n",
    "p.image_url(url=['01_Antwerpen_S1.jpg'], x=0, y=0, w=1650, h=1200)\n",
    "p.scatter(x, y*-1, radius=radii,\n",
    "          fill_color=\"blue\", fill_alpha=0.6,\n",
    "          line_color=\"black\")\n",
    "\n",
    "\n",
    "\n",
    "show(p)"
   ]
  },
  {
   "cell_type": "code",
   "execution_count": null,
   "metadata": {},
   "outputs": [],
   "source": []
  },
  {
   "cell_type": "code",
   "execution_count": null,
   "metadata": {},
   "outputs": [],
   "source": []
  },
  {
   "cell_type": "code",
   "execution_count": null,
   "metadata": {
    "collapsed": true
   },
   "outputs": [],
   "source": []
  }
 ],
 "metadata": {
  "kernelspec": {
   "display_name": "Python 3",
   "language": "python",
   "name": "python3"
  },
  "language_info": {
   "codemirror_mode": {
    "name": "ipython",
    "version": 3
   },
   "file_extension": ".py",
   "mimetype": "text/x-python",
   "name": "python",
   "nbconvert_exporter": "python",
   "pygments_lexer": "ipython3",
   "version": "3.7.1"
  }
 },
 "nbformat": 4,
 "nbformat_minor": 2
}

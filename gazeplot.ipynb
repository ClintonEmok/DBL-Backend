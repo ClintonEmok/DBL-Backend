{
 "cells": [
  {
   "cell_type": "code",
   "execution_count": 1,
   "metadata": {},
   "outputs": [],
   "source": [
    "import pandas as pd\n",
    "import numpy as np\n",
    "from bokeh.plotting import figure, show\n",
    "from bokeh.io import output_notebook, reset_output\n",
    "from bokeh.models import HoverTool\n",
    "from bokeh.models.annotations import Label, LabelSet\n",
    "import matplotlib.pyplot as plt\n",
    "import seaborn as sns\n",
    "from bokeh.models import CategoricalColorMapper, ColorBar\n",
    "from bokeh.transform import transform\n",
    "from bokeh.models import LinearInterpolator\n",
    "from bokeh.palettes import Category20b\n",
    "import ipywidgets \n",
    "from bokeh.io import push_notebook\n",
    "from bokeh.models import ColumnDataSource, Select\n",
    "from bokeh.io import output_file, show\n",
    "from bokeh.models import Dropdown, Slider\n",
    "from bokeh.layouts import column, row\n",
    "from bokeh.models.callbacks import CustomJS\n",
    "from bokeh.io import curdoc\n",
    "\n"
   ]
  },
  {
   "cell_type": "code",
   "execution_count": null,
   "metadata": {},
   "outputs": [],
   "source": []
  },
  {
   "cell_type": "code",
   "execution_count": null,
   "metadata": {},
   "outputs": [],
   "source": [
    "\n"
   ]
  },
  {
   "cell_type": "code",
   "execution_count": 2,
   "metadata": {},
   "outputs": [
    {
     "data": {
      "text/html": [
       "<div>\n",
       "<style scoped>\n",
       "    .dataframe tbody tr th:only-of-type {\n",
       "        vertical-align: middle;\n",
       "    }\n",
       "\n",
       "    .dataframe tbody tr th {\n",
       "        vertical-align: top;\n",
       "    }\n",
       "\n",
       "    .dataframe thead th {\n",
       "        text-align: right;\n",
       "    }\n",
       "</style>\n",
       "<table border=\"1\" class=\"dataframe\">\n",
       "  <thead>\n",
       "    <tr style=\"text-align: right;\">\n",
       "      <th></th>\n",
       "      <th>Timestamp</th>\n",
       "      <th>StimuliName</th>\n",
       "      <th>FixationIndex</th>\n",
       "      <th>FixationDuration</th>\n",
       "      <th>MappedFixationPointX</th>\n",
       "      <th>MappedFixationPointY</th>\n",
       "      <th>user</th>\n",
       "      <th>description</th>\n",
       "    </tr>\n",
       "  </thead>\n",
       "  <tbody>\n",
       "    <tr>\n",
       "      <th>0</th>\n",
       "      <td>2586</td>\n",
       "      <td>01_Antwerpen_S1.jpg</td>\n",
       "      <td>9</td>\n",
       "      <td>250</td>\n",
       "      <td>1151</td>\n",
       "      <td>458</td>\n",
       "      <td>p1</td>\n",
       "      <td>color</td>\n",
       "    </tr>\n",
       "    <tr>\n",
       "      <th>1</th>\n",
       "      <td>2836</td>\n",
       "      <td>01_Antwerpen_S1.jpg</td>\n",
       "      <td>10</td>\n",
       "      <td>150</td>\n",
       "      <td>1371</td>\n",
       "      <td>316</td>\n",
       "      <td>p1</td>\n",
       "      <td>color</td>\n",
       "    </tr>\n",
       "    <tr>\n",
       "      <th>2</th>\n",
       "      <td>2986</td>\n",
       "      <td>01_Antwerpen_S1.jpg</td>\n",
       "      <td>11</td>\n",
       "      <td>283</td>\n",
       "      <td>1342</td>\n",
       "      <td>287</td>\n",
       "      <td>p1</td>\n",
       "      <td>color</td>\n",
       "    </tr>\n",
       "    <tr>\n",
       "      <th>3</th>\n",
       "      <td>3269</td>\n",
       "      <td>01_Antwerpen_S1.jpg</td>\n",
       "      <td>12</td>\n",
       "      <td>433</td>\n",
       "      <td>762</td>\n",
       "      <td>303</td>\n",
       "      <td>p1</td>\n",
       "      <td>color</td>\n",
       "    </tr>\n",
       "    <tr>\n",
       "      <th>4</th>\n",
       "      <td>3702</td>\n",
       "      <td>01_Antwerpen_S1.jpg</td>\n",
       "      <td>13</td>\n",
       "      <td>183</td>\n",
       "      <td>624</td>\n",
       "      <td>297</td>\n",
       "      <td>p1</td>\n",
       "      <td>color</td>\n",
       "    </tr>\n",
       "  </tbody>\n",
       "</table>\n",
       "</div>"
      ],
      "text/plain": [
       "   Timestamp          StimuliName  FixationIndex  FixationDuration  \\\n",
       "0       2586  01_Antwerpen_S1.jpg              9               250   \n",
       "1       2836  01_Antwerpen_S1.jpg             10               150   \n",
       "2       2986  01_Antwerpen_S1.jpg             11               283   \n",
       "3       3269  01_Antwerpen_S1.jpg             12               433   \n",
       "4       3702  01_Antwerpen_S1.jpg             13               183   \n",
       "\n",
       "   MappedFixationPointX  MappedFixationPointY user description  \n",
       "0                  1151                   458   p1       color  \n",
       "1                  1371                   316   p1       color  \n",
       "2                  1342                   287   p1       color  \n",
       "3                   762                   303   p1       color  \n",
       "4                   624                   297   p1       color  "
      ]
     },
     "execution_count": 2,
     "metadata": {},
     "output_type": "execute_result"
    }
   ],
   "source": [
    "test_data = pd.read_csv(\"metro_data.csv\", encoding = \"latin1\", sep = \";\")\n",
    "test_data.head()"
   ]
  },
  {
   "cell_type": "code",
   "execution_count": 11,
   "metadata": {},
   "outputs": [
    {
     "ename": "KeyError",
     "evalue": "False",
     "output_type": "error",
     "traceback": [
      "\u001b[1;31m---------------------------------------------------------------------------\u001b[0m",
      "\u001b[1;31mKeyError\u001b[0m                                  Traceback (most recent call last)",
      "\u001b[1;32mC:\\ProgramData\\Anaconda3\\lib\\site-packages\\pandas\\core\\indexes\\base.py\u001b[0m in \u001b[0;36mget_loc\u001b[1;34m(self, key, method, tolerance)\u001b[0m\n\u001b[0;32m   2645\u001b[0m             \u001b[1;32mtry\u001b[0m\u001b[1;33m:\u001b[0m\u001b[1;33m\u001b[0m\u001b[1;33m\u001b[0m\u001b[0m\n\u001b[1;32m-> 2646\u001b[1;33m                 \u001b[1;32mreturn\u001b[0m \u001b[0mself\u001b[0m\u001b[1;33m.\u001b[0m\u001b[0m_engine\u001b[0m\u001b[1;33m.\u001b[0m\u001b[0mget_loc\u001b[0m\u001b[1;33m(\u001b[0m\u001b[0mkey\u001b[0m\u001b[1;33m)\u001b[0m\u001b[1;33m\u001b[0m\u001b[1;33m\u001b[0m\u001b[0m\n\u001b[0m\u001b[0;32m   2647\u001b[0m             \u001b[1;32mexcept\u001b[0m \u001b[0mKeyError\u001b[0m\u001b[1;33m:\u001b[0m\u001b[1;33m\u001b[0m\u001b[1;33m\u001b[0m\u001b[0m\n",
      "\u001b[1;32mpandas\\_libs\\index.pyx\u001b[0m in \u001b[0;36mpandas._libs.index.IndexEngine.get_loc\u001b[1;34m()\u001b[0m\n",
      "\u001b[1;32mpandas\\_libs\\index.pyx\u001b[0m in \u001b[0;36mpandas._libs.index.IndexEngine.get_loc\u001b[1;34m()\u001b[0m\n",
      "\u001b[1;32mpandas\\_libs\\hashtable_class_helper.pxi\u001b[0m in \u001b[0;36mpandas._libs.hashtable.PyObjectHashTable.get_item\u001b[1;34m()\u001b[0m\n",
      "\u001b[1;32mpandas\\_libs\\hashtable_class_helper.pxi\u001b[0m in \u001b[0;36mpandas._libs.hashtable.PyObjectHashTable.get_item\u001b[1;34m()\u001b[0m\n",
      "\u001b[1;31mKeyError\u001b[0m: False",
      "\nDuring handling of the above exception, another exception occurred:\n",
      "\u001b[1;31mKeyError\u001b[0m                                  Traceback (most recent call last)",
      "\u001b[1;32m<ipython-input-11-e335390fba6f>\u001b[0m in \u001b[0;36m<module>\u001b[1;34m\u001b[0m\n\u001b[0;32m      1\u001b[0m \u001b[1;31m# use only the 01_antwerpen_01 map\u001b[0m\u001b[1;33m\u001b[0m\u001b[1;33m\u001b[0m\u001b[1;33m\u001b[0m\u001b[0m\n\u001b[1;32m----> 2\u001b[1;33m \u001b[0mg\u001b[0m \u001b[1;33m=\u001b[0m \u001b[0mtest_data\u001b[0m\u001b[1;33m[\u001b[0m\u001b[1;34m'StimuliName'\u001b[0m \u001b[1;33m==\u001b[0m \u001b[1;34m'01_Antwerpen_S1.jpg'\u001b[0m\u001b[1;33m]\u001b[0m\u001b[1;33m[\u001b[0m\u001b[1;34m'user'\u001b[0m\u001b[1;33m]\u001b[0m\u001b[1;33m\u001b[0m\u001b[1;33m\u001b[0m\u001b[0m\n\u001b[0m",
      "\u001b[1;32mC:\\ProgramData\\Anaconda3\\lib\\site-packages\\pandas\\core\\frame.py\u001b[0m in \u001b[0;36m__getitem__\u001b[1;34m(self, key)\u001b[0m\n\u001b[0;32m   2798\u001b[0m             \u001b[1;32mif\u001b[0m \u001b[0mself\u001b[0m\u001b[1;33m.\u001b[0m\u001b[0mcolumns\u001b[0m\u001b[1;33m.\u001b[0m\u001b[0mnlevels\u001b[0m \u001b[1;33m>\u001b[0m \u001b[1;36m1\u001b[0m\u001b[1;33m:\u001b[0m\u001b[1;33m\u001b[0m\u001b[1;33m\u001b[0m\u001b[0m\n\u001b[0;32m   2799\u001b[0m                 \u001b[1;32mreturn\u001b[0m \u001b[0mself\u001b[0m\u001b[1;33m.\u001b[0m\u001b[0m_getitem_multilevel\u001b[0m\u001b[1;33m(\u001b[0m\u001b[0mkey\u001b[0m\u001b[1;33m)\u001b[0m\u001b[1;33m\u001b[0m\u001b[1;33m\u001b[0m\u001b[0m\n\u001b[1;32m-> 2800\u001b[1;33m             \u001b[0mindexer\u001b[0m \u001b[1;33m=\u001b[0m \u001b[0mself\u001b[0m\u001b[1;33m.\u001b[0m\u001b[0mcolumns\u001b[0m\u001b[1;33m.\u001b[0m\u001b[0mget_loc\u001b[0m\u001b[1;33m(\u001b[0m\u001b[0mkey\u001b[0m\u001b[1;33m)\u001b[0m\u001b[1;33m\u001b[0m\u001b[1;33m\u001b[0m\u001b[0m\n\u001b[0m\u001b[0;32m   2801\u001b[0m             \u001b[1;32mif\u001b[0m \u001b[0mis_integer\u001b[0m\u001b[1;33m(\u001b[0m\u001b[0mindexer\u001b[0m\u001b[1;33m)\u001b[0m\u001b[1;33m:\u001b[0m\u001b[1;33m\u001b[0m\u001b[1;33m\u001b[0m\u001b[0m\n\u001b[0;32m   2802\u001b[0m                 \u001b[0mindexer\u001b[0m \u001b[1;33m=\u001b[0m \u001b[1;33m[\u001b[0m\u001b[0mindexer\u001b[0m\u001b[1;33m]\u001b[0m\u001b[1;33m\u001b[0m\u001b[1;33m\u001b[0m\u001b[0m\n",
      "\u001b[1;32mC:\\ProgramData\\Anaconda3\\lib\\site-packages\\pandas\\core\\indexes\\base.py\u001b[0m in \u001b[0;36mget_loc\u001b[1;34m(self, key, method, tolerance)\u001b[0m\n\u001b[0;32m   2646\u001b[0m                 \u001b[1;32mreturn\u001b[0m \u001b[0mself\u001b[0m\u001b[1;33m.\u001b[0m\u001b[0m_engine\u001b[0m\u001b[1;33m.\u001b[0m\u001b[0mget_loc\u001b[0m\u001b[1;33m(\u001b[0m\u001b[0mkey\u001b[0m\u001b[1;33m)\u001b[0m\u001b[1;33m\u001b[0m\u001b[1;33m\u001b[0m\u001b[0m\n\u001b[0;32m   2647\u001b[0m             \u001b[1;32mexcept\u001b[0m \u001b[0mKeyError\u001b[0m\u001b[1;33m:\u001b[0m\u001b[1;33m\u001b[0m\u001b[1;33m\u001b[0m\u001b[0m\n\u001b[1;32m-> 2648\u001b[1;33m                 \u001b[1;32mreturn\u001b[0m \u001b[0mself\u001b[0m\u001b[1;33m.\u001b[0m\u001b[0m_engine\u001b[0m\u001b[1;33m.\u001b[0m\u001b[0mget_loc\u001b[0m\u001b[1;33m(\u001b[0m\u001b[0mself\u001b[0m\u001b[1;33m.\u001b[0m\u001b[0m_maybe_cast_indexer\u001b[0m\u001b[1;33m(\u001b[0m\u001b[0mkey\u001b[0m\u001b[1;33m)\u001b[0m\u001b[1;33m)\u001b[0m\u001b[1;33m\u001b[0m\u001b[1;33m\u001b[0m\u001b[0m\n\u001b[0m\u001b[0;32m   2649\u001b[0m         \u001b[0mindexer\u001b[0m \u001b[1;33m=\u001b[0m \u001b[0mself\u001b[0m\u001b[1;33m.\u001b[0m\u001b[0mget_indexer\u001b[0m\u001b[1;33m(\u001b[0m\u001b[1;33m[\u001b[0m\u001b[0mkey\u001b[0m\u001b[1;33m]\u001b[0m\u001b[1;33m,\u001b[0m \u001b[0mmethod\u001b[0m\u001b[1;33m=\u001b[0m\u001b[0mmethod\u001b[0m\u001b[1;33m,\u001b[0m \u001b[0mtolerance\u001b[0m\u001b[1;33m=\u001b[0m\u001b[0mtolerance\u001b[0m\u001b[1;33m)\u001b[0m\u001b[1;33m\u001b[0m\u001b[1;33m\u001b[0m\u001b[0m\n\u001b[0;32m   2650\u001b[0m         \u001b[1;32mif\u001b[0m \u001b[0mindexer\u001b[0m\u001b[1;33m.\u001b[0m\u001b[0mndim\u001b[0m \u001b[1;33m>\u001b[0m \u001b[1;36m1\u001b[0m \u001b[1;32mor\u001b[0m \u001b[0mindexer\u001b[0m\u001b[1;33m.\u001b[0m\u001b[0msize\u001b[0m \u001b[1;33m>\u001b[0m \u001b[1;36m1\u001b[0m\u001b[1;33m:\u001b[0m\u001b[1;33m\u001b[0m\u001b[1;33m\u001b[0m\u001b[0m\n",
      "\u001b[1;32mpandas\\_libs\\index.pyx\u001b[0m in \u001b[0;36mpandas._libs.index.IndexEngine.get_loc\u001b[1;34m()\u001b[0m\n",
      "\u001b[1;32mpandas\\_libs\\index.pyx\u001b[0m in \u001b[0;36mpandas._libs.index.IndexEngine.get_loc\u001b[1;34m()\u001b[0m\n",
      "\u001b[1;32mpandas\\_libs\\hashtable_class_helper.pxi\u001b[0m in \u001b[0;36mpandas._libs.hashtable.PyObjectHashTable.get_item\u001b[1;34m()\u001b[0m\n",
      "\u001b[1;32mpandas\\_libs\\hashtable_class_helper.pxi\u001b[0m in \u001b[0;36mpandas._libs.hashtable.PyObjectHashTable.get_item\u001b[1;34m()\u001b[0m\n",
      "\u001b[1;31mKeyError\u001b[0m: False"
     ]
    }
   ],
   "source": [
    "# use only the 01_antwerpen_01 map\n"
   ]
  },
  {
   "cell_type": "code",
   "execution_count": 4,
   "metadata": {},
   "outputs": [
    {
     "name": "stderr",
     "output_type": "stream",
     "text": [
      "C:\\ProgramData\\Anaconda3\\lib\\site-packages\\bokeh\\models\\mappers.py:147: UserWarning: Palette length does not match number of factors. ['p28', 'p29', 'p3', 'p30', 'p31', 'p32', 'p33', 'p34', 'p35', 'p36', 'p37', 'p38', 'p39', 'p4', 'p40', 'p5', 'p6', 'p7', 'p8', 'p9'] will be assigned to `nan_color` gray\n",
      "  warnings.warn(\"Palette length does not match number of factors. %s will be assigned to `nan_color` %s\" % (extra_factors, self.nan_color))\n"
     ]
    }
   ],
   "source": [
    "source = ColumnDataSource(data=dict(Timestamp=[], StimuliName=[], FixationIndex=[], FixationDuration=[], MappedFixationPointX = [], MappedFixationPointY = [], user = []))\n",
    "\n",
    "\n",
    "\n",
    "# add colours to the scatter points\n",
    "color_mapper = CategoricalColorMapper ( \n",
    "    factors = list(test_data.user.unique()),\n",
    "    palette = Category20b[20]\n",
    ")\n",
    "\n",
    "\n",
    "\n",
    "\n",
    "# set size of the dots in the future scatter plot\n",
    "size_mapper = LinearInterpolator (\n",
    "    x = [test_data.FixationDuration.min(), test_data.FixationDuration.max()],\n",
    "    y = [10, 40]\n",
    ")\n",
    "\n",
    "\n",
    "\n"
   ]
  },
  {
   "cell_type": "code",
   "execution_count": 5,
   "metadata": {},
   "outputs": [],
   "source": [
    "users = test_data['user'].unique().tolist()\n",
    "users = sorted(users, key=lambda x: int(\"\".join([i for i in x if i.isdigit()])))\n",
    "\n",
    "maps = test_data['StimuliName'].unique().tolist()\n",
    "maps.sort()\n",
    "\n",
    "# dropdown menu to select a stimuli map\n",
    "select_map = Select (\n",
    "    title = \"Select map:\", \n",
    "    value = \"01_Antwerpen_S1.jpg\", \n",
    "    options = maps\n",
    ")\n",
    "\n",
    "\n",
    "# dropdown menu to select a user\n",
    "select_user = Select (\n",
    "    title = \"Select user:\", \n",
    "    value = \"All\",\n",
    "    options = users\n",
    ")\n",
    "\n",
    "\n",
    "# slider for timestamp\n",
    "slider_timestamp = Slider(\n",
    "    start = test_data.Timestamp.min(), \n",
    "    end = test_data.Timestamp.max(), \n",
    "    step = 1,\n",
    "    value = test_data.Timestamp.min(),\n",
    "    title = 'Slide for time forward'\n",
    ")\n"
   ]
  },
  {
   "cell_type": "code",
   "execution_count": 6,
   "metadata": {},
   "outputs": [],
   "source": [
    "# function select the needed gprah according to the dropdown values\n",
    "\n",
    "def select_graphs():\n",
    "    stimulimap_val = select_map.value\n",
    "    userselect_val = select_user.value.strip()\n",
    "    \n",
    "    selected = test_data.copy()\n",
    "   \n",
    "    if (stimulimap_val != \"All\"):\n",
    "        selected = selected[selected['StimuliName'].str.contains(stimulimap_val)==True]\n",
    "    if (userselect_val != \"All\"):\n",
    "        selected = selected[selected['user'].str.contains(userselect_val)==True]\n",
    "    \n",
    "    return selected\n",
    "\n",
    "# update the plot\n",
    "\n",
    "def update():\n",
    "    df = select_graphs()\n",
    "    \n",
    "    source.data = dict(\n",
    "        Timestamp =  df['Timestamp'],\n",
    "        StimuliName =  df['StimuliName'],\n",
    "        FixationIndex =  df['FixationIndex'],\n",
    "        FixationDuration =  df['FixationDuration'],\n",
    "        MappedFixationPointX =  df['MappedFixationPointX'],\n",
    "        MappedFixationPointY =  df['MappedFixationPointY'],\n",
    "        user =  df['user']\n",
    "        )"
   ]
  },
  {
   "cell_type": "code",
   "execution_count": 7,
   "metadata": {},
   "outputs": [],
   "source": [
    "controls = [select_map, select_user, slider_timestamp]\n",
    "\n",
    "for control in controls :\n",
    "    control.on_change('value', lambda attr, old, new: update())"
   ]
  },
  {
   "cell_type": "code",
   "execution_count": 8,
   "metadata": {},
   "outputs": [],
   "source": [
    "# scatter plot //  gaze plot\n",
    "TOOLTIPS=[\n",
    "    (\"Time\", \"@Timestamp\"),\n",
    "    (\"User\", \"@user\"),\n",
    "    (\"X-coordinate\", \"@MappedFixationPointX\"),\n",
    "    (\"Y-coordinate\", \"@MappedFixationPointY\"),\n",
    "]\n",
    "gaze_plot = figure (plot_width = 1000, plot_height = 650, title = 'test gaze plot', tooltips = TOOLTIPS, x_axis_label = 'x', y_axis_label = 'y')\n",
    "gaze_plot.circle (x = 'MappedFixationPointX',\n",
    "                  y = 'MappedFixationPointY',\n",
    "                  source = source,\n",
    "                  color = {'field' : 'user', 'transform' : color_mapper},\n",
    "                  size = {'field' : 'FixationDuration', 'transform' : size_mapper},\n",
    "                  fill_alpha = 0.5,\n",
    "                  legend_label = 'user')\n",
    "\n",
    "\n",
    "gaze_plot.y_range.flipped = True"
   ]
  },
  {
   "cell_type": "code",
   "execution_count": 9,
   "metadata": {
    "pycharm": {
     "name": "#%%\n"
    }
   },
   "outputs": [
    {
     "name": "stderr",
     "output_type": "stream",
     "text": [
      "WARNING:bokeh.embed.util:\n",
      "You are generating standalone HTML/JS output, but trying to use real Python\n",
      "callbacks (i.e. with on_change or on_event). This combination cannot work.\n",
      "\n",
      "Only JavaScript callbacks may be used with standalone output. For more\n",
      "information on JavaScript callbacks with Bokeh, see:\n",
      "\n",
      "    https://docs.bokeh.org/en/latest/docs/user_guide/interaction/callbacks.html\n",
      "\n",
      "Alternatively, to use real Python callbacks, a Bokeh server application may\n",
      "be used. For more information on building and running Bokeh applications, see:\n",
      "\n",
      "    https://docs.bokeh.org/en/latest/docs/user_guide/server.html\n",
      "\n"
     ]
    }
   ],
   "source": [
    "layout = row (\n",
    "    gaze_plot, \n",
    "    column (select_map, select_user, slider_timestamp)\n",
    ")\n",
    "\n",
    "update()\n",
    "\n",
    "curdoc().add_root(layout)\n",
    "\n",
    "show(layout)\n"
   ]
  }
 ],
 "metadata": {
  "kernelspec": {
   "display_name": "Python 3",
   "language": "python",
   "name": "python3"
  },
  "language_info": {
   "codemirror_mode": {
    "name": "ipython",
    "version": 3
   },
   "file_extension": ".py",
   "mimetype": "text/x-python",
   "name": "python",
   "nbconvert_exporter": "python",
   "pygments_lexer": "ipython3",
   "version": "3.7.3"
  }
 },
 "nbformat": 4,
 "nbformat_minor": 2
}
